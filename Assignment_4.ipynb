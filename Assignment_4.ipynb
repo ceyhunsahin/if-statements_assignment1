{
 "cells": [
  {
   "cell_type": "code",
   "execution_count": null,
   "metadata": {},
   "outputs": [],
   "source": [
    "prime_num = int(input('Enter a number please : '))\n",
    "for i in range(1, prime_num):\n",
    "    if prime_num == 2 or prime_num ==3:\n",
    "        print(prime_num, \"is a prime number\")\n",
    "        break\n",
    "    elif prime_num % (i+1) ==0:\n",
    "        print(prime_num, \"is not a prime number\")\n",
    "        break \n",
    "    elif prime_num % (i) !=0: \n",
    "        print(prime_num, \"is a prime number\")\n",
    "        break\n"
   ]
  }
 ],
 "metadata": {
  "kernelspec": {
   "display_name": "Python 3",
   "language": "python",
   "name": "python3"
  },
  "language_info": {
   "codemirror_mode": {
    "name": "ipython",
    "version": 3
   },
   "file_extension": ".py",
   "mimetype": "text/x-python",
   "name": "python",
   "nbconvert_exporter": "python",
   "pygments_lexer": "ipython3",
   "version": "3.7.6"
  }
 },
 "nbformat": 4,
 "nbformat_minor": 4
}

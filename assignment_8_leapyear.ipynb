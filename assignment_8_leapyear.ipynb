{
 "cells": [
  {
   "cell_type": "code",
   "execution_count": 15,
   "metadata": {},
   "outputs": [
    {
     "name": "stdout",
     "output_type": "stream",
     "text": [
      "Enter a year : 2004\n",
      "2004 is a leap year\n"
     ]
    }
   ],
   "source": [
    "x= int(input(\"Enter a year : \"))\n",
    "def leap_year(x):\n",
    "    print(x,\"is a leap year\") if x%4==0 or x%100==0 \\\n",
    "    (print(x,\"is a leap year\") if x%400 ==0 else \\\n",
    "     print(x,\"is not a leap year\")) else print(x,\"is not a leap year\")  \n",
    "leap_year(x)"
   ]
  },
  {
   "cell_type": "code",
   "execution_count": 16,
   "metadata": {},
   "outputs": [
    {
     "name": "stdout",
     "output_type": "stream",
     "text": [
      "Enter a year : 2004\n",
      "2004 is a leap year\n"
     ]
    }
   ],
   "source": [
    "x= int(input(\"Enter a year : \"))\n",
    "def leap_year(x):\n",
    "    if (x%4==0 and x%100!=0) :\n",
    "        print(x,\"is a leap year\" )\n",
    "    elif (x%400 ==0):\n",
    "        print(x,\"is a leap year\" )\n",
    "    else:\n",
    "        print(x,\"is not a leap year\") \n",
    "leap_year(x)"
   ]
  },
  {
   "cell_type": "code",
   "execution_count": null,
   "metadata": {},
   "outputs": [],
   "source": []
  },
  {
   "cell_type": "code",
   "execution_count": null,
   "metadata": {},
   "outputs": [],
   "source": []
  }
 ],
 "metadata": {
  "kernelspec": {
   "display_name": "Python 3",
   "language": "python",
   "name": "python3"
  },
  "language_info": {
   "codemirror_mode": {
    "name": "ipython",
    "version": 3
   },
   "file_extension": ".py",
   "mimetype": "text/x-python",
   "name": "python",
   "nbconvert_exporter": "python",
   "pygments_lexer": "ipython3",
   "version": "3.7.6"
  }
 },
 "nbformat": 4,
 "nbformat_minor": 4
}

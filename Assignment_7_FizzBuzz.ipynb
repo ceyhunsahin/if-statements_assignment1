{
 "cells": [
  {
   "cell_type": "code",
   "execution_count": null,
   "metadata": {},
   "outputs": [],
   "source": [
    "a = []\n",
    "b = []\n",
    "def FizzBuzz(i):\n",
    "    for i in range(1,100):\n",
    "        if i %3==0 and i%5 ==0:\n",
    "            print(i, \"FizzBuzz\")\n",
    "            a.append(i)\n",
    "            b.append(\"FizzBuzz\")\n",
    "        elif i %3==0:\n",
    "            print(i, \"Fizz\")\n",
    "        elif i %5==0:\n",
    "            print(i, \"Buzz\")\n",
    "        else :\n",
    "            print(i)\n",
    "    return i\n",
    "print(FizzBuzz(1))\n",
    "c = dict(zip(a,b))\n",
    "print(c)\n"
   ]
  }
 ],
 "metadata": {
  "kernelspec": {
   "display_name": "Python 3",
   "language": "python",
   "name": "python3"
  },
  "language_info": {
   "codemirror_mode": {
    "name": "ipython",
    "version": 3
   },
   "file_extension": ".py",
   "mimetype": "text/x-python",
   "name": "python",
   "nbconvert_exporter": "python",
   "pygments_lexer": "ipython3",
   "version": "3.7.6"
  }
 },
 "nbformat": 4,
 "nbformat_minor": 4
}

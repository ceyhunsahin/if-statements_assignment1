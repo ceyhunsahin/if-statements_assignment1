{
 "cells": [
  {
   "cell_type": "code",
   "execution_count": null,
   "metadata": {},
   "outputs": [],
   "source": [
    "n = int(input (\"Input a number : \"))\n",
    "prime = []\n",
    "not_prime = []\n",
    "for i in range(2, n):\n",
    "    count = 0\n",
    "    for j in range(1,n):\n",
    "        if i<j or i%j!=0 :\n",
    "             pass\n",
    "        elif i>=j and i%j==0 :\n",
    "            count +=1     \n",
    "    if count ==2:\n",
    "        prime.append(i)\n",
    "    else: \n",
    "        not_prime.append(i)\n",
    "print(prime)\n",
    "print(not_prime)\n"
   ]
  }
 ],
 "metadata": {
  "kernelspec": {
   "display_name": "Python 3",
   "language": "python",
   "name": "python3"
  },
  "language_info": {
   "codemirror_mode": {
    "name": "ipython",
    "version": 3
   },
   "file_extension": ".py",
   "mimetype": "text/x-python",
   "name": "python",
   "nbconvert_exporter": "python",
   "pygments_lexer": "ipython3",
   "version": "3.7.6"
  }
 },
 "nbformat": 4,
 "nbformat_minor": 4
}

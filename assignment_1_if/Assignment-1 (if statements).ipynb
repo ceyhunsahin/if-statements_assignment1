{
 "cells": [
  {
   "cell_type": "code",
   "execution_count": 7,
   "metadata": {},
   "outputs": [
    {
     "name": "stdout",
     "output_type": "stream",
     "text": [
      "please enter your name : ceyhun\n",
      "Hello Ceyhun your password : ghkt@22\n"
     ]
    }
   ],
   "source": [
    "my_name = \"Ceyhun\"\n",
    "\n",
    "a = input(\"please enter your name : \").title().strip()\n",
    "\n",
    "if a == \"Ceyhun\" :\n",
    "    print (\"Hello Ceyhun your password : ghkt@22\")\n",
    "else:\n",
    "    print (\"Hello\", a, \"\\b! See you later\")"
   ]
  },
  {
   "cell_type": "code",
   "execution_count": null,
   "metadata": {},
   "outputs": [],
   "source": []
  },
  {
   "cell_type": "code",
   "execution_count": null,
   "metadata": {},
   "outputs": [],
   "source": []
  }
 ],
 "metadata": {
  "kernelspec": {
   "display_name": "Python 3",
   "language": "python",
   "name": "python3"
  },
  "language_info": {
   "codemirror_mode": {
    "name": "ipython",
    "version": 3
   },
   "file_extension": ".py",
   "mimetype": "text/x-python",
   "name": "python",
   "nbconvert_exporter": "python",
   "pygments_lexer": "ipython3",
   "version": "3.7.6"
  }
 },
 "nbformat": 4,
 "nbformat_minor": 4
}
